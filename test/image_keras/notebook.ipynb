{
 "cells": [
  {
   "cell_type": "markdown",
   "metadata": {},
   "source": [
    "### Building an image classification model using very little data  \n",
    "\n",
    "Based on the tutorial by Francois Chollet @fchollet https://blog.keras.io/building-powerful-image-classification-models-using-very-little-data.html and the workbook by Guillaume Dominici https://github.com/gggdominici/keras-workshop\n",
    "\n",
    "This tutorial presents several ways to build an image classifier using keras from just a few hundred or thousand pictures from each class you want to be able to recognize.\n",
    "\n",
    "We will go over the following options:  \n",
    "\n",
    "- training a small network from scratch (as a baseline)  \n",
    "- using the bottleneck features of a pre-trained network  \n",
    "- fine-tuning the top layers of a pre-trained network  \n",
    "  \n",
    "This will lead us to cover the following Keras features:   \n",
    "  \n",
    "- fit_generator for training Keras a model using Python data generators  \n",
    "- ImageDataGenerator for real-time data augmentation  \n",
    "- layer freezing and model fine-tuning  \n",
    "- ...and more.  \n"
   ]
  },
  {
   "cell_type": "markdown",
   "metadata": {},
   "source": [
    "## Data"
   ]
  },
  {
   "cell_type": "markdown",
   "metadata": {},
   "source": [
    "Data can be downloaded at:\n",
    "https://www.kaggle.com/c/dogs-vs-cats/data  \n",
    "All you need is the train set  \n",
    "The recommended folder structure is:  "
   ]
  },
  {
   "cell_type": "markdown",
   "metadata": {},
   "source": [
    "### Folder structure"
   ]
  },
  {
   "cell_type": "markdown",
   "metadata": {},
   "source": [
    "```python\n",
    "data/\n",
    "    train/\n",
    "        dogs/ ### 1024 pictures\n",
    "            dog001.jpg\n",
    "            dog002.jpg\n",
    "            ...\n",
    "        cats/ ### 1024 pictures\n",
    "            cat001.jpg\n",
    "            cat002.jpg\n",
    "            ...\n",
    "    validation/\n",
    "        dogs/ ### 416 pictures\n",
    "            dog001.jpg\n",
    "            dog002.jpg\n",
    "            ...\n",
    "        cats/ ### 416 pictures\n",
    "            cat001.jpg\n",
    "            cat002.jpg\n",
    "            ...\n",
    "```\n",
    "Note : for this example we only consider 2x1000 training images and 2x400 testing images among the 2x12500 available."
   ]
  },
  {
   "cell_type": "markdown",
   "metadata": {},
   "source": [
    "The github repo includes about 3000 images for this model. The original Kaggle dataset is much larger. The purpose of this demo is to show how you can build models with smaller size datasets. You should be able to improve this model by using more data."
   ]
  },
  {
   "cell_type": "markdown",
   "metadata": {},
   "source": [
    "### Data loading"
   ]
  },
  {
   "cell_type": "code",
   "execution_count": 1,
   "metadata": {
    "collapsed": false
   },
   "outputs": [
    {
     "name": "stdout",
     "output_type": "stream",
     "text": [
      "Requirement already satisfied (use --upgrade to upgrade): pillow in /home/ladmin/anaconda3/lib/python3.5/site-packages\n",
      "\u001b[33mYou are using pip version 8.1.2, however version 9.0.1 is available.\n",
      "You should consider upgrading via the 'pip install --upgrade pip' command.\u001b[0m\n",
      "Using TensorFlow backend.\n",
      "I tensorflow/stream_executor/dso_loader.cc:135] successfully opened CUDA library libcublas.so.8.0 locally\n",
      "I tensorflow/stream_executor/dso_loader.cc:135] successfully opened CUDA library libcudnn.so.5 locally\n",
      "I tensorflow/stream_executor/dso_loader.cc:135] successfully opened CUDA library libcufft.so.8.0 locally\n",
      "I tensorflow/stream_executor/dso_loader.cc:135] successfully opened CUDA library libcuda.so.1 locally\n",
      "I tensorflow/stream_executor/dso_loader.cc:135] successfully opened CUDA library libcurand.so.8.0 locally\n"
     ]
    }
   ],
   "source": [
    "##This notebook is built around using tensorflow as the backend for keras\n",
    "!pip install pillow\n",
    "!KERAS_BACKEND=tensorflow python -c \"from keras import backend\""
   ]
  },
  {
   "cell_type": "code",
   "execution_count": 2,
   "metadata": {
    "collapsed": false
   },
   "outputs": [
    {
     "name": "stderr",
     "output_type": "stream",
     "text": [
      "Using TensorFlow backend.\n"
     ]
    }
   ],
   "source": [
    "##Updated to Keras 2.0\n",
    "import os\n",
    "import numpy as np\n",
    "from keras.models import Sequential\n",
    "from keras.layers import Activation, Dropout, Flatten, Dense\n",
    "from keras.preprocessing.image import ImageDataGenerator\n",
    "from keras.layers import Convolution2D, MaxPooling2D, ZeroPadding2D\n",
    "from keras import optimizers\n",
    "from keras import applications\n",
    "from keras.models import Model"
   ]
  },
  {
   "cell_type": "code",
   "execution_count": 3,
   "metadata": {
    "collapsed": true
   },
   "outputs": [],
   "source": [
    "# dimensions of our images.\n",
    "img_width, img_height = 150, 150\n",
    "\n",
    "train_data_dir = 'data/train'\n",
    "validation_data_dir = 'data/validation'"
   ]
  },
  {
   "cell_type": "markdown",
   "metadata": {},
   "source": [
    "### Imports"
   ]
  },
  {
   "cell_type": "code",
   "execution_count": 4,
   "metadata": {
    "collapsed": false
   },
   "outputs": [
    {
     "name": "stdout",
     "output_type": "stream",
     "text": [
      "Found 2048 images belonging to 2 classes.\n",
      "Found 832 images belonging to 2 classes.\n"
     ]
    }
   ],
   "source": [
    "##preprocessing\n",
    "# used to rescale the pixel values from [0, 255] to [0, 1] interval\n",
    "datagen = ImageDataGenerator(rescale=1./255)\n",
    "batch_size = 32\n",
    "\n",
    "# automagically retrieve images and their classes for train and validation sets\n",
    "train_generator = datagen.flow_from_directory(\n",
    "        train_data_dir,\n",
    "        target_size=(img_width, img_height),\n",
    "        batch_size=batch_size,\n",
    "        class_mode='binary')\n",
    "\n",
    "validation_generator = datagen.flow_from_directory(\n",
    "        validation_data_dir,\n",
    "        target_size=(img_width, img_height),\n",
    "        batch_size=batch_size,\n",
    "        class_mode='binary')"
   ]
  },
  {
   "cell_type": "markdown",
   "metadata": {},
   "source": [
    "## Small Conv Net"
   ]
  },
  {
   "cell_type": "markdown",
   "metadata": {},
   "source": [
    "### Model architecture definition"
   ]
  },
  {
   "cell_type": "code",
   "execution_count": 5,
   "metadata": {
    "collapsed": false
   },
   "outputs": [],
   "source": [
    "# a simple stack of 3 convolution layers with a ReLU activation and followed by max-pooling layers.\n",
    "model = Sequential()\n",
    "model.add(Convolution2D(32, (3, 3), input_shape=(img_width, img_height,3)))\n",
    "model.add(Activation('relu'))\n",
    "model.add(MaxPooling2D(pool_size=(2, 2)))\n",
    "\n",
    "model.add(Convolution2D(32, (3, 3)))\n",
    "model.add(Activation('relu'))\n",
    "model.add(MaxPooling2D(pool_size=(2, 2)))\n",
    "\n",
    "model.add(Convolution2D(64, (3, 3)))\n",
    "model.add(Activation('relu'))\n",
    "model.add(MaxPooling2D(pool_size=(2, 2)))\n",
    "\n",
    "model.add(Flatten())\n",
    "model.add(Dense(64))\n",
    "model.add(Activation('relu'))\n",
    "model.add(Dropout(0.5))\n",
    "model.add(Dense(1))\n",
    "model.add(Activation('sigmoid'))"
   ]
  },
  {
   "cell_type": "code",
   "execution_count": 6,
   "metadata": {
    "collapsed": true
   },
   "outputs": [],
   "source": [
    "model.compile(loss='binary_crossentropy',\n",
    "              optimizer='rmsprop',\n",
    "              metrics=['accuracy'])"
   ]
  },
  {
   "cell_type": "markdown",
   "metadata": {},
   "source": [
    "### Training"
   ]
  },
  {
   "cell_type": "code",
   "execution_count": 7,
   "metadata": {
    "collapsed": true
   },
   "outputs": [],
   "source": [
    "epochs = 30\n",
    "train_samples = 2048\n",
    "validation_samples = 832"
   ]
  },
  {
   "cell_type": "code",
   "execution_count": 8,
   "metadata": {
    "collapsed": false
   },
   "outputs": [
    {
     "name": "stdout",
     "output_type": "stream",
     "text": [
      "Epoch 1/30\n",
      "64/64 [==============================] - 4s - loss: 0.7019 - acc: 0.5312 - val_loss: 0.6602 - val_acc: 0.6430\n",
      "Epoch 2/30\n",
      "64/64 [==============================] - 3s - loss: 0.6585 - acc: 0.6201 - val_loss: 0.6155 - val_acc: 0.6599\n",
      "Epoch 3/30\n",
      "64/64 [==============================] - 3s - loss: 0.6011 - acc: 0.6802 - val_loss: 0.7000 - val_acc: 0.5829\n",
      "Epoch 4/30\n",
      "64/64 [==============================] - 3s - loss: 0.5623 - acc: 0.7124 - val_loss: 0.5634 - val_acc: 0.7007\n",
      "Epoch 5/30\n",
      "64/64 [==============================] - 3s - loss: 0.5211 - acc: 0.7598 - val_loss: 0.5417 - val_acc: 0.7103\n",
      "Epoch 6/30\n",
      "64/64 [==============================] - 3s - loss: 0.4809 - acc: 0.7632 - val_loss: 0.6005 - val_acc: 0.6863\n",
      "Epoch 7/30\n",
      "64/64 [==============================] - 3s - loss: 0.4411 - acc: 0.7954 - val_loss: 0.5165 - val_acc: 0.7440\n",
      "Epoch 8/30\n",
      "64/64 [==============================] - 3s - loss: 0.4147 - acc: 0.8145 - val_loss: 0.5743 - val_acc: 0.7224\n",
      "Epoch 9/30\n",
      "64/64 [==============================] - 3s - loss: 0.3629 - acc: 0.8428 - val_loss: 0.5564 - val_acc: 0.7368\n",
      "Epoch 10/30\n",
      "64/64 [==============================] - 3s - loss: 0.3078 - acc: 0.8706 - val_loss: 0.6492 - val_acc: 0.7356\n",
      "Epoch 11/30\n",
      "64/64 [==============================] - 3s - loss: 0.2555 - acc: 0.8911 - val_loss: 0.6599 - val_acc: 0.7500\n",
      "Epoch 12/30\n",
      "64/64 [==============================] - 3s - loss: 0.2126 - acc: 0.9146 - val_loss: 0.7828 - val_acc: 0.7091\n",
      "Epoch 13/30\n",
      "64/64 [==============================] - 3s - loss: 0.1898 - acc: 0.9214 - val_loss: 0.9111 - val_acc: 0.7188\n",
      "Epoch 14/30\n",
      "64/64 [==============================] - 3s - loss: 0.1560 - acc: 0.9419 - val_loss: 0.7646 - val_acc: 0.7308\n",
      "Epoch 15/30\n",
      "64/64 [==============================] - 3s - loss: 0.1281 - acc: 0.9521 - val_loss: 1.0182 - val_acc: 0.7344\n",
      "Epoch 16/30\n",
      "64/64 [==============================] - 3s - loss: 0.1319 - acc: 0.9561 - val_loss: 1.2820 - val_acc: 0.7091\n",
      "Epoch 17/30\n",
      "64/64 [==============================] - 3s - loss: 0.0875 - acc: 0.9658 - val_loss: 1.0670 - val_acc: 0.7248\n",
      "Epoch 18/30\n",
      "64/64 [==============================] - 3s - loss: 0.0849 - acc: 0.9683 - val_loss: 0.9959 - val_acc: 0.7440\n",
      "Epoch 19/30\n",
      "64/64 [==============================] - 3s - loss: 0.0690 - acc: 0.9780 - val_loss: 1.1287 - val_acc: 0.7512\n",
      "Epoch 20/30\n",
      "64/64 [==============================] - 3s - loss: 0.0638 - acc: 0.9751 - val_loss: 1.2906 - val_acc: 0.7320\n",
      "Epoch 21/30\n",
      "64/64 [==============================] - 3s - loss: 0.0523 - acc: 0.9834 - val_loss: 1.3546 - val_acc: 0.7416\n",
      "Epoch 22/30\n",
      "64/64 [==============================] - 3s - loss: 0.0522 - acc: 0.9795 - val_loss: 1.4303 - val_acc: 0.7356\n",
      "Epoch 23/30\n",
      "64/64 [==============================] - 3s - loss: 0.0534 - acc: 0.9805 - val_loss: 1.3081 - val_acc: 0.7488\n",
      "Epoch 24/30\n",
      "64/64 [==============================] - 3s - loss: 0.0432 - acc: 0.9854 - val_loss: 1.5992 - val_acc: 0.7476\n",
      "Epoch 25/30\n",
      "64/64 [==============================] - 3s - loss: 0.0643 - acc: 0.9810 - val_loss: 1.7533 - val_acc: 0.7248\n",
      "Epoch 26/30\n",
      "64/64 [==============================] - 3s - loss: 0.0505 - acc: 0.9834 - val_loss: 1.7377 - val_acc: 0.7236\n",
      "Epoch 27/30\n",
      "64/64 [==============================] - 3s - loss: 0.0318 - acc: 0.9893 - val_loss: 1.6935 - val_acc: 0.7488\n",
      "Epoch 28/30\n",
      "64/64 [==============================] - 3s - loss: 0.0476 - acc: 0.9893 - val_loss: 1.7834 - val_acc: 0.7272\n",
      "Epoch 29/30\n",
      "64/64 [==============================] - 3s - loss: 0.0451 - acc: 0.9849 - val_loss: 1.6228 - val_acc: 0.7392\n",
      "Epoch 30/30\n",
      "64/64 [==============================] - 3s - loss: 0.0342 - acc: 0.9902 - val_loss: 1.8900 - val_acc: 0.7212\n"
     ]
    },
    {
     "data": {
      "text/plain": [
       "<keras.callbacks.History at 0x7f14c6cdfa20>"
      ]
     },
     "execution_count": 8,
     "metadata": {},
     "output_type": "execute_result"
    }
   ],
   "source": [
    "model.fit_generator(\n",
    "        train_generator,\n",
    "        steps_per_epoch=train_samples // batch_size,\n",
    "        epochs=epochs,\n",
    "        validation_data=validation_generator,\n",
    "        validation_steps=validation_samples// batch_size,)\n",
    "#About 60 seconds an epoch when using CPU"
   ]
  },
  {
   "cell_type": "code",
   "execution_count": 9,
   "metadata": {
    "collapsed": false
   },
   "outputs": [],
   "source": [
    "model.save_weights('models/basic_cnn_30_epochs.h5')"
   ]
  },
  {
   "cell_type": "code",
   "execution_count": 10,
   "metadata": {
    "collapsed": true
   },
   "outputs": [],
   "source": [
    "#model.save_weights('models_trained/basic_cnn_30_epochs.h5')\n",
    "#model.load_weights('models_trained/basic_cnn_30_epochs.h5')"
   ]
  },
  {
   "cell_type": "markdown",
   "metadata": {},
   "source": [
    "If your model successfully runs at one epoch, go back and it for 30 epochs by changing epochs above.  I was able to get to an val_acc of 0.71 at 30 epochs.\n",
    "A copy of a pretrained network is available in the pretrained folder."
   ]
  },
  {
   "cell_type": "markdown",
   "metadata": {},
   "source": [
    "### Evaluating on validation set"
   ]
  },
  {
   "cell_type": "markdown",
   "metadata": {},
   "source": [
    "Computing loss and accuracy :"
   ]
  },
  {
   "cell_type": "code",
   "execution_count": 11,
   "metadata": {
    "collapsed": false
   },
   "outputs": [
    {
     "data": {
      "text/plain": [
       "[1.9269507873731737, 0.72945462740384615]"
      ]
     },
     "execution_count": 11,
     "metadata": {},
     "output_type": "execute_result"
    }
   ],
   "source": [
    "model.evaluate_generator(validation_generator, validation_samples)"
   ]
  },
  {
   "cell_type": "markdown",
   "metadata": {},
   "source": [
    "Evolution of accuracy on training (blue) and validation (green) sets for 1 to 32 epochs :"
   ]
  },
  {
   "cell_type": "markdown",
   "metadata": {},
   "source": [
    "![Accuracy evolution](pictures/scores_no_dataaugmentation.png)"
   ]
  },
  {
   "cell_type": "markdown",
   "metadata": {},
   "source": [
    "**After ~10 epochs the neural network reach ~70% accuracy. We can witness overfitting, no progress is made over validation set in the next epochs.**"
   ]
  },
  {
   "cell_type": "markdown",
   "metadata": {},
   "source": [
    "## Data augmentation for improving the model"
   ]
  },
  {
   "cell_type": "markdown",
   "metadata": {},
   "source": [
    "By applying random transformation to our train set, we artificially enhance our dataset with new unseen images.  \n",
    "This will hopefully reduce overfitting and allows better generalization capability for our network."
   ]
  },
  {
   "cell_type": "markdown",
   "metadata": {},
   "source": [
    "Example of data augmentation applied to a picture:\n",
    "![Example of data augmentation applied to a picture](pictures/cat_data_augmentation.png)"
   ]
  },
  {
   "cell_type": "code",
   "execution_count": 12,
   "metadata": {
    "collapsed": false
   },
   "outputs": [
    {
     "name": "stdout",
     "output_type": "stream",
     "text": [
      "Found 2048 images belonging to 2 classes.\n"
     ]
    }
   ],
   "source": [
    "train_datagen_augmented = ImageDataGenerator(\n",
    "        rescale=1./255,        # normalize pixel values to [0,1]\n",
    "        shear_range=0.2,       # randomly applies shearing transformation\n",
    "        zoom_range=0.2,        # randomly applies shearing transformation\n",
    "        horizontal_flip=True)  # randomly flip the images\n",
    "\n",
    "# same code as before\n",
    "train_generator_augmented = train_datagen_augmented.flow_from_directory(\n",
    "        train_data_dir,\n",
    "        target_size=(img_width, img_height),\n",
    "        batch_size=batch_size,\n",
    "        class_mode='binary')"
   ]
  },
  {
   "cell_type": "code",
   "execution_count": 13,
   "metadata": {
    "collapsed": false
   },
   "outputs": [
    {
     "name": "stdout",
     "output_type": "stream",
     "text": [
      "Epoch 1/30\n",
      "64/64 [==============================] - 8s - loss: 0.6084 - acc: 0.7173 - val_loss: 0.5901 - val_acc: 0.6911\n",
      "Epoch 2/30\n",
      "64/64 [==============================] - 7s - loss: 0.5393 - acc: 0.7476 - val_loss: 0.5237 - val_acc: 0.7548\n",
      "Epoch 3/30\n",
      "64/64 [==============================] - 7s - loss: 0.5114 - acc: 0.7637 - val_loss: 0.5793 - val_acc: 0.7248\n",
      "Epoch 4/30\n",
      "64/64 [==============================] - 7s - loss: 0.4931 - acc: 0.7700 - val_loss: 0.5768 - val_acc: 0.7260\n",
      "Epoch 5/30\n",
      "64/64 [==============================] - 7s - loss: 0.4846 - acc: 0.8013 - val_loss: 0.5024 - val_acc: 0.7536\n",
      "Epoch 6/30\n",
      "64/64 [==============================] - 7s - loss: 0.4590 - acc: 0.7910 - val_loss: 0.5223 - val_acc: 0.7728\n",
      "Epoch 7/30\n",
      "64/64 [==============================] - 7s - loss: 0.4643 - acc: 0.7910 - val_loss: 0.5221 - val_acc: 0.7440\n",
      "Epoch 8/30\n",
      "64/64 [==============================] - 7s - loss: 0.4606 - acc: 0.7891 - val_loss: 0.5439 - val_acc: 0.7620\n",
      "Epoch 9/30\n",
      "64/64 [==============================] - 7s - loss: 0.4445 - acc: 0.8047 - val_loss: 0.5710 - val_acc: 0.7416\n",
      "Epoch 10/30\n",
      "64/64 [==============================] - 7s - loss: 0.4639 - acc: 0.8013 - val_loss: 0.4849 - val_acc: 0.7680\n",
      "Epoch 11/30\n",
      "64/64 [==============================] - 7s - loss: 0.4269 - acc: 0.8149 - val_loss: 0.5280 - val_acc: 0.7404\n",
      "Epoch 12/30\n",
      "64/64 [==============================] - 7s - loss: 0.4253 - acc: 0.8110 - val_loss: 0.4985 - val_acc: 0.7873\n",
      "Epoch 13/30\n",
      "64/64 [==============================] - 7s - loss: 0.4004 - acc: 0.8237 - val_loss: 0.5526 - val_acc: 0.7488\n",
      "Epoch 14/30\n",
      "64/64 [==============================] - 7s - loss: 0.4373 - acc: 0.8154 - val_loss: 0.4997 - val_acc: 0.7704\n",
      "Epoch 15/30\n",
      "64/64 [==============================] - 7s - loss: 0.4180 - acc: 0.8242 - val_loss: 0.4911 - val_acc: 0.7740\n",
      "Epoch 16/30\n",
      "64/64 [==============================] - 7s - loss: 0.4083 - acc: 0.8179 - val_loss: 0.5443 - val_acc: 0.7800\n",
      "Epoch 17/30\n",
      "64/64 [==============================] - 7s - loss: 0.3963 - acc: 0.8184 - val_loss: 0.5221 - val_acc: 0.7897\n",
      "Epoch 18/30\n",
      "64/64 [==============================] - 7s - loss: 0.3970 - acc: 0.8228 - val_loss: 0.6026 - val_acc: 0.7849\n",
      "Epoch 19/30\n",
      "64/64 [==============================] - 7s - loss: 0.3943 - acc: 0.8306 - val_loss: 0.5247 - val_acc: 0.7632\n",
      "Epoch 20/30\n",
      "64/64 [==============================] - 7s - loss: 0.4219 - acc: 0.8159 - val_loss: 0.4838 - val_acc: 0.7837\n",
      "Epoch 21/30\n",
      "64/64 [==============================] - 7s - loss: 0.3867 - acc: 0.8262 - val_loss: 0.5173 - val_acc: 0.7452\n",
      "Epoch 22/30\n",
      "64/64 [==============================] - 7s - loss: 0.3681 - acc: 0.8394 - val_loss: 0.4905 - val_acc: 0.7909\n",
      "Epoch 23/30\n",
      "64/64 [==============================] - 7s - loss: 0.3838 - acc: 0.8408 - val_loss: 0.5536 - val_acc: 0.7356\n",
      "Epoch 24/30\n",
      "64/64 [==============================] - 7s - loss: 0.3725 - acc: 0.8394 - val_loss: 0.4998 - val_acc: 0.7692\n",
      "Epoch 25/30\n",
      "64/64 [==============================] - 7s - loss: 0.3701 - acc: 0.8472 - val_loss: 0.5808 - val_acc: 0.7800\n",
      "Epoch 26/30\n",
      "64/64 [==============================] - 7s - loss: 0.3527 - acc: 0.8564 - val_loss: 0.6402 - val_acc: 0.7752\n",
      "Epoch 27/30\n",
      "64/64 [==============================] - 7s - loss: 0.3804 - acc: 0.8350 - val_loss: 0.4937 - val_acc: 0.7656\n",
      "Epoch 28/30\n",
      "64/64 [==============================] - 7s - loss: 0.3754 - acc: 0.8398 - val_loss: 0.5054 - val_acc: 0.7981\n",
      "Epoch 29/30\n",
      "64/64 [==============================] - 7s - loss: 0.3574 - acc: 0.8452 - val_loss: 0.5606 - val_acc: 0.7885\n",
      "Epoch 30/30\n",
      "64/64 [==============================] - 7s - loss: 0.3523 - acc: 0.8481 - val_loss: 0.5420 - val_acc: 0.7692\n"
     ]
    },
    {
     "data": {
      "text/plain": [
       "<keras.callbacks.History at 0x7f14c5b09c50>"
      ]
     },
     "execution_count": 13,
     "metadata": {},
     "output_type": "execute_result"
    }
   ],
   "source": [
    "model.fit_generator(\n",
    "        train_generator_augmented,\n",
    "        steps_per_epoch=train_samples // batch_size,\n",
    "        epochs=epochs,\n",
    "        validation_data=validation_generator,\n",
    "        validation_steps=validation_samples // batch_size,)"
   ]
  },
  {
   "cell_type": "code",
   "execution_count": 14,
   "metadata": {
    "collapsed": false
   },
   "outputs": [],
   "source": [
    "model.save_weights('models/augmented_30_epochs.h5')"
   ]
  },
  {
   "cell_type": "code",
   "execution_count": 15,
   "metadata": {
    "collapsed": false
   },
   "outputs": [],
   "source": [
    "#model.load_weights('models_trained/augmented_30_epochs.h5')"
   ]
  },
  {
   "cell_type": "markdown",
   "metadata": {},
   "source": [
    "### Evaluating on validation set"
   ]
  },
  {
   "cell_type": "markdown",
   "metadata": {},
   "source": [
    "Computing loss and accuracy :"
   ]
  },
  {
   "cell_type": "code",
   "execution_count": 16,
   "metadata": {
    "collapsed": false
   },
   "outputs": [
    {
     "data": {
      "text/plain": [
       "[0.54872930947189724, 0.77835787259615385]"
      ]
     },
     "execution_count": 16,
     "metadata": {},
     "output_type": "execute_result"
    }
   ],
   "source": [
    "model.evaluate_generator(validation_generator, validation_samples)"
   ]
  },
  {
   "cell_type": "markdown",
   "metadata": {},
   "source": [
    "Evolution of accuracy on training (blue) and validation (green) sets for 1 to 100 epochs :"
   ]
  },
  {
   "cell_type": "markdown",
   "metadata": {},
   "source": [
    "![Accuracy evolution](pictures/scores_with_dataaugmentation.png)"
   ]
  },
  {
   "cell_type": "markdown",
   "metadata": {},
   "source": [
    "**Thanks to data-augmentation, the accuracy on the validation set improved to ~80%**"
   ]
  },
  {
   "cell_type": "markdown",
   "metadata": {},
   "source": [
    "## Using a pre-trained model"
   ]
  },
  {
   "cell_type": "markdown",
   "metadata": {},
   "source": [
    "The process of training a convolutionnal neural network can be very time-consuming and require a lot of data.  \n",
    "\n",
    "We can go beyond the previous models in terms of performance and efficiency by using a general-purpose, pre-trained image classifier.  This example uses VGG16, a model trained on the ImageNet dataset - which contains millions of images classified in 1000 categories. \n",
    "\n",
    "On top of it, we add a small multi-layer perceptron and we train it on our dataset."
   ]
  },
  {
   "cell_type": "markdown",
   "metadata": {},
   "source": [
    "### VGG16 + small MLP\n",
    "![VGG16 + Dense layers Schema](pictures/vgg16_original.png)"
   ]
  },
  {
   "cell_type": "markdown",
   "metadata": {},
   "source": [
    "#### VGG16 model is available in Keras"
   ]
  },
  {
   "cell_type": "code",
   "execution_count": 17,
   "metadata": {
    "collapsed": false
   },
   "outputs": [],
   "source": [
    "model_vgg = applications.VGG16(include_top=False, weights='imagenet')"
   ]
  },
  {
   "cell_type": "markdown",
   "metadata": {},
   "source": [
    "### Using the VGG16 model to process samples"
   ]
  },
  {
   "cell_type": "code",
   "execution_count": 18,
   "metadata": {
    "collapsed": false
   },
   "outputs": [
    {
     "name": "stdout",
     "output_type": "stream",
     "text": [
      "Found 2048 images belonging to 2 classes.\n",
      "Found 832 images belonging to 2 classes.\n"
     ]
    }
   ],
   "source": [
    "train_generator_bottleneck = datagen.flow_from_directory(\n",
    "        train_data_dir,\n",
    "        target_size=(img_width, img_height),\n",
    "        batch_size=batch_size,\n",
    "        class_mode=None,\n",
    "        shuffle=False)\n",
    "\n",
    "validation_generator_bottleneck = datagen.flow_from_directory(\n",
    "        validation_data_dir,\n",
    "        target_size=(img_width, img_height),\n",
    "        batch_size=batch_size,\n",
    "        class_mode=None,\n",
    "        shuffle=False)"
   ]
  },
  {
   "cell_type": "markdown",
   "metadata": {},
   "source": [
    "This is a long process, so we save the output of the VGG16 once and for all.  "
   ]
  },
  {
   "cell_type": "code",
   "execution_count": 19,
   "metadata": {
    "collapsed": false
   },
   "outputs": [],
   "source": [
    "bottleneck_features_train = model_vgg.predict_generator(train_generator_bottleneck, train_samples // batch_size)\n",
    "np.save(open('models/bottleneck_features_train.npy', 'wb'), bottleneck_features_train)"
   ]
  },
  {
   "cell_type": "code",
   "execution_count": 20,
   "metadata": {
    "collapsed": false
   },
   "outputs": [],
   "source": [
    "bottleneck_features_validation = model_vgg.predict_generator(validation_generator_bottleneck, validation_samples // batch_size)\n",
    "np.save(open('models/bottleneck_features_validation.npy', 'wb'), bottleneck_features_validation)"
   ]
  },
  {
   "cell_type": "markdown",
   "metadata": {},
   "source": [
    "Now we can load it..."
   ]
  },
  {
   "cell_type": "code",
   "execution_count": 21,
   "metadata": {
    "collapsed": false
   },
   "outputs": [],
   "source": [
    "train_data = np.load(open('models/bottleneck_features_train.npy', 'rb'))\n",
    "train_labels = np.array([0] * (train_samples // 2) + [1] * (train_samples // 2))\n",
    "\n",
    "validation_data = np.load(open('models/bottleneck_features_validation.npy', 'rb'))\n",
    "validation_labels = np.array([0] * (validation_samples // 2) + [1] * (validation_samples // 2))"
   ]
  },
  {
   "cell_type": "markdown",
   "metadata": {},
   "source": [
    "And define and train the custom fully connected neural network :"
   ]
  },
  {
   "cell_type": "code",
   "execution_count": 22,
   "metadata": {
    "collapsed": false
   },
   "outputs": [],
   "source": [
    "model_top = Sequential()\n",
    "model_top.add(Flatten(input_shape=train_data.shape[1:]))\n",
    "model_top.add(Dense(256, activation='relu'))\n",
    "model_top.add(Dropout(0.5))\n",
    "model_top.add(Dense(1, activation='sigmoid'))\n",
    "\n",
    "model_top.compile(optimizer='rmsprop', loss='binary_crossentropy', metrics=['accuracy'])"
   ]
  },
  {
   "cell_type": "code",
   "execution_count": 23,
   "metadata": {
    "collapsed": false
   },
   "outputs": [
    {
     "name": "stdout",
     "output_type": "stream",
     "text": [
      "Train on 2048 samples, validate on 832 samples\n",
      "Epoch 1/30\n",
      "2048/2048 [==============================] - 0s - loss: 1.0117 - acc: 0.7373 - val_loss: 0.2824 - val_acc: 0.8846\n",
      "Epoch 2/30\n",
      "2048/2048 [==============================] - 0s - loss: 0.3854 - acc: 0.8354 - val_loss: 0.3104 - val_acc: 0.8654\n",
      "Epoch 3/30\n",
      "2048/2048 [==============================] - 0s - loss: 0.3131 - acc: 0.8740 - val_loss: 0.3117 - val_acc: 0.8666\n",
      "Epoch 4/30\n",
      "2048/2048 [==============================] - 0s - loss: 0.2750 - acc: 0.8916 - val_loss: 0.2966 - val_acc: 0.8750\n",
      "Epoch 5/30\n",
      "2048/2048 [==============================] - 0s - loss: 0.2181 - acc: 0.9126 - val_loss: 0.2443 - val_acc: 0.9050\n",
      "Epoch 6/30\n",
      "2048/2048 [==============================] - 0s - loss: 0.2031 - acc: 0.9204 - val_loss: 0.2397 - val_acc: 0.9135\n",
      "Epoch 7/30\n",
      "2048/2048 [==============================] - 0s - loss: 0.1917 - acc: 0.9209 - val_loss: 0.8980 - val_acc: 0.7212\n",
      "Epoch 8/30\n",
      "2048/2048 [==============================] - 0s - loss: 0.1669 - acc: 0.9375 - val_loss: 0.2565 - val_acc: 0.9026\n",
      "Epoch 9/30\n",
      "2048/2048 [==============================] - 0s - loss: 0.1234 - acc: 0.9570 - val_loss: 0.2883 - val_acc: 0.8978\n",
      "Epoch 10/30\n",
      "2048/2048 [==============================] - 0s - loss: 0.1344 - acc: 0.9473 - val_loss: 0.2794 - val_acc: 0.9099\n",
      "Epoch 11/30\n",
      "2048/2048 [==============================] - 0s - loss: 0.0999 - acc: 0.9604 - val_loss: 0.6976 - val_acc: 0.8041\n",
      "Epoch 12/30\n",
      "2048/2048 [==============================] - 0s - loss: 0.1082 - acc: 0.9551 - val_loss: 0.3539 - val_acc: 0.9050\n",
      "Epoch 13/30\n",
      "2048/2048 [==============================] - 0s - loss: 0.0857 - acc: 0.9683 - val_loss: 0.3202 - val_acc: 0.9123\n",
      "Epoch 14/30\n",
      "2048/2048 [==============================] - 0s - loss: 0.0643 - acc: 0.9722 - val_loss: 0.7492 - val_acc: 0.8209\n",
      "Epoch 15/30\n",
      "2048/2048 [==============================] - 0s - loss: 0.0790 - acc: 0.9727 - val_loss: 0.6080 - val_acc: 0.8702\n",
      "Epoch 16/30\n",
      "2048/2048 [==============================] - 0s - loss: 0.0605 - acc: 0.9780 - val_loss: 0.4586 - val_acc: 0.8990\n",
      "Epoch 17/30\n",
      "2048/2048 [==============================] - 0s - loss: 0.0592 - acc: 0.9775 - val_loss: 0.4327 - val_acc: 0.9062\n",
      "Epoch 18/30\n",
      "2048/2048 [==============================] - 0s - loss: 0.0517 - acc: 0.9775 - val_loss: 0.5250 - val_acc: 0.9014\n",
      "Epoch 19/30\n",
      "2048/2048 [==============================] - 0s - loss: 0.0445 - acc: 0.9839 - val_loss: 0.5150 - val_acc: 0.8906\n",
      "Epoch 20/30\n",
      "2048/2048 [==============================] - 0s - loss: 0.0495 - acc: 0.9814 - val_loss: 0.5910 - val_acc: 0.8930\n",
      "Epoch 21/30\n",
      "2048/2048 [==============================] - 0s - loss: 0.0357 - acc: 0.9863 - val_loss: 0.5589 - val_acc: 0.8918\n",
      "Epoch 22/30\n",
      "2048/2048 [==============================] - 0s - loss: 0.0313 - acc: 0.9902 - val_loss: 0.6116 - val_acc: 0.8834\n",
      "Epoch 23/30\n",
      "2048/2048 [==============================] - 0s - loss: 0.0278 - acc: 0.9883 - val_loss: 0.5449 - val_acc: 0.9062\n",
      "Epoch 24/30\n",
      "2048/2048 [==============================] - 0s - loss: 0.0366 - acc: 0.9868 - val_loss: 0.5645 - val_acc: 0.9050\n",
      "Epoch 25/30\n",
      "2048/2048 [==============================] - 0s - loss: 0.0231 - acc: 0.9907 - val_loss: 0.7700 - val_acc: 0.8666\n",
      "Epoch 26/30\n",
      "2048/2048 [==============================] - 0s - loss: 0.0316 - acc: 0.9893 - val_loss: 0.6023 - val_acc: 0.9111\n",
      "Epoch 27/30\n",
      "2048/2048 [==============================] - 0s - loss: 0.0207 - acc: 0.9922 - val_loss: 0.7544 - val_acc: 0.8918\n",
      "Epoch 28/30\n",
      "2048/2048 [==============================] - 0s - loss: 0.0265 - acc: 0.9907 - val_loss: 0.6361 - val_acc: 0.9002\n",
      "Epoch 29/30\n",
      "2048/2048 [==============================] - 0s - loss: 0.0206 - acc: 0.9927 - val_loss: 0.7019 - val_acc: 0.9026\n",
      "Epoch 30/30\n",
      "2048/2048 [==============================] - 0s - loss: 0.0284 - acc: 0.9897 - val_loss: 0.6048 - val_acc: 0.9026\n"
     ]
    },
    {
     "data": {
      "text/plain": [
       "<keras.callbacks.History at 0x7f14c409d630>"
      ]
     },
     "execution_count": 23,
     "metadata": {},
     "output_type": "execute_result"
    }
   ],
   "source": [
    "model_top.fit(train_data, train_labels,\n",
    "        epochs=epochs, \n",
    "        batch_size=batch_size,\n",
    "        validation_data=(validation_data, validation_labels))"
   ]
  },
  {
   "cell_type": "markdown",
   "metadata": {},
   "source": [
    "The training process of this small neural network is very fast : ~2s per epoch"
   ]
  },
  {
   "cell_type": "code",
   "execution_count": 24,
   "metadata": {
    "collapsed": false
   },
   "outputs": [],
   "source": [
    "model_top.save_weights('models/bottleneck_30_epochs.h5')"
   ]
  },
  {
   "cell_type": "markdown",
   "metadata": {},
   "source": [
    "### Bottleneck model evaluation"
   ]
  },
  {
   "cell_type": "code",
   "execution_count": 25,
   "metadata": {
    "collapsed": false
   },
   "outputs": [],
   "source": [
    "#model_top.load_weights('models/bottleneck_30_epochs.h5)"
   ]
  },
  {
   "cell_type": "markdown",
   "metadata": {},
   "source": [
    "Loss and accuracy :"
   ]
  },
  {
   "cell_type": "code",
   "execution_count": 26,
   "metadata": {
    "collapsed": false
   },
   "outputs": [
    {
     "name": "stdout",
     "output_type": "stream",
     "text": [
      "\r",
      " 32/832 [>.............................] - ETA: 0s"
     ]
    },
    {
     "data": {
      "text/plain": [
       "[0.60475906758354259, 0.90264423076923073]"
      ]
     },
     "execution_count": 26,
     "metadata": {},
     "output_type": "execute_result"
    }
   ],
   "source": [
    "model_top.evaluate(validation_data, validation_labels)"
   ]
  },
  {
   "cell_type": "markdown",
   "metadata": {},
   "source": [
    "Evolution of accuracy on training (blue) and validation (green) sets for 1 to 32 epochs :"
   ]
  },
  {
   "cell_type": "markdown",
   "metadata": {},
   "source": [
    "![Accuracy evolution](pictures/scores_with_bottleneck.png)"
   ]
  },
  {
   "cell_type": "markdown",
   "metadata": {},
   "source": [
    "**We reached a 90% accuracy on the validation after ~1m of training (~20 epochs) and 8% of the samples originally available on the Kaggle competition !**"
   ]
  },
  {
   "cell_type": "markdown",
   "metadata": {
    "collapsed": true
   },
   "source": [
    "## Fine-tuning the top layers of a a pre-trained network"
   ]
  },
  {
   "cell_type": "markdown",
   "metadata": {
    "collapsed": true
   },
   "source": [
    "Start by instantiating the VGG base and loading its weights."
   ]
  },
  {
   "cell_type": "code",
   "execution_count": 27,
   "metadata": {
    "collapsed": true
   },
   "outputs": [],
   "source": [
    "model_vgg = applications.VGG16(weights='imagenet', include_top=False, input_shape=(150, 150, 3))"
   ]
  },
  {
   "cell_type": "markdown",
   "metadata": {},
   "source": [
    "Build a classifier model to put on top of the convolutional model. For the fine tuning, we start with a fully trained-classifer. We will use the weights from the earlier model. And then we will add this model on top of the convolutional base."
   ]
  },
  {
   "cell_type": "code",
   "execution_count": 29,
   "metadata": {
    "collapsed": false
   },
   "outputs": [],
   "source": [
    "top_model = Sequential()\n",
    "top_model.add(Flatten(input_shape=model_vgg.output_shape[1:]))\n",
    "top_model.add(Dense(256, activation='relu'))\n",
    "top_model.add(Dropout(0.5))\n",
    "top_model.add(Dense(1, activation='sigmoid'))\n",
    "\n",
    "top_model.load_weights('models/bottleneck_30_epochs.h5')\n",
    "\n",
    "#model_vgg.add(top_model)\n",
    "model = Model(inputs = model_vgg.input, outputs = top_model(model_vgg.output))"
   ]
  },
  {
   "cell_type": "markdown",
   "metadata": {},
   "source": [
    "For fine turning, we only want to train a few layers.  This line will set the first 25 layers (up to the conv block) to non-trainable."
   ]
  },
  {
   "cell_type": "code",
   "execution_count": 30,
   "metadata": {
    "collapsed": false
   },
   "outputs": [],
   "source": [
    "for layer in model.layers[:15]:\n",
    "    layer.trainable = False"
   ]
  },
  {
   "cell_type": "code",
   "execution_count": 31,
   "metadata": {
    "collapsed": true
   },
   "outputs": [],
   "source": [
    "# compile the model with a SGD/momentum optimizer\n",
    "# and a very slow learning rate.\n",
    "model.compile(loss='binary_crossentropy',\n",
    "              optimizer=optimizers.SGD(lr=1e-4, momentum=0.9),\n",
    "              metrics=['accuracy'])"
   ]
  },
  {
   "cell_type": "code",
   "execution_count": 32,
   "metadata": {
    "collapsed": false
   },
   "outputs": [
    {
     "name": "stdout",
     "output_type": "stream",
     "text": [
      "Found 2048 images belonging to 2 classes.\n",
      "Found 832 images belonging to 2 classes.\n"
     ]
    }
   ],
   "source": [
    "# prepare data augmentation configuration  . . . do we need this?\n",
    "train_datagen = ImageDataGenerator(\n",
    "        rescale=1./255,\n",
    "        shear_range=0.2,\n",
    "        zoom_range=0.2,\n",
    "        horizontal_flip=True)\n",
    "\n",
    "test_datagen = ImageDataGenerator(rescale=1./255)\n",
    "\n",
    "train_generator = train_datagen.flow_from_directory(\n",
    "        train_data_dir,\n",
    "        target_size=(img_height, img_width),\n",
    "        batch_size=batch_size,\n",
    "        class_mode='binary')\n",
    "\n",
    "validation_generator = test_datagen.flow_from_directory(\n",
    "        validation_data_dir,\n",
    "        target_size=(img_height, img_width),\n",
    "        batch_size=batch_size,\n",
    "        class_mode='binary')"
   ]
  },
  {
   "cell_type": "code",
   "execution_count": 33,
   "metadata": {
    "collapsed": false
   },
   "outputs": [
    {
     "name": "stdout",
     "output_type": "stream",
     "text": [
      "Epoch 1/30\n",
      "64/64 [==============================] - 14s - loss: 0.3501 - acc: 0.8999 - val_loss: 0.3482 - val_acc: 0.8990\n",
      "Epoch 2/30\n",
      "64/64 [==============================] - 14s - loss: 0.1985 - acc: 0.9268 - val_loss: 0.3713 - val_acc: 0.8954\n",
      "Epoch 3/30\n",
      "64/64 [==============================] - 14s - loss: 0.1624 - acc: 0.9336 - val_loss: 0.2705 - val_acc: 0.9111\n",
      "Epoch 4/30\n",
      "64/64 [==============================] - 14s - loss: 0.1224 - acc: 0.9521 - val_loss: 0.3526 - val_acc: 0.9050\n",
      "Epoch 5/30\n",
      "64/64 [==============================] - 14s - loss: 0.1321 - acc: 0.9502 - val_loss: 0.2383 - val_acc: 0.9231\n",
      "Epoch 6/30\n",
      "64/64 [==============================] - 14s - loss: 0.0970 - acc: 0.9624 - val_loss: 0.2955 - val_acc: 0.9135\n",
      "Epoch 7/30\n",
      "64/64 [==============================] - 14s - loss: 0.0981 - acc: 0.9644 - val_loss: 0.2939 - val_acc: 0.9243\n",
      "Epoch 8/30\n",
      "64/64 [==============================] - 14s - loss: 0.0655 - acc: 0.9761 - val_loss: 0.3388 - val_acc: 0.9219\n",
      "Epoch 9/30\n",
      "64/64 [==============================] - 14s - loss: 0.0664 - acc: 0.9746 - val_loss: 0.2822 - val_acc: 0.9171\n",
      "Epoch 10/30\n",
      "64/64 [==============================] - 14s - loss: 0.0778 - acc: 0.9702 - val_loss: 0.2287 - val_acc: 0.9327\n",
      "Epoch 11/30\n",
      "64/64 [==============================] - 14s - loss: 0.0466 - acc: 0.9839 - val_loss: 0.2978 - val_acc: 0.9207\n",
      "Epoch 12/30\n",
      "64/64 [==============================] - 14s - loss: 0.0616 - acc: 0.9785 - val_loss: 0.3196 - val_acc: 0.9171\n",
      "Epoch 13/30\n",
      "64/64 [==============================] - 14s - loss: 0.0532 - acc: 0.9814 - val_loss: 0.4721 - val_acc: 0.8978\n",
      "Epoch 14/30\n",
      "64/64 [==============================] - 14s - loss: 0.0786 - acc: 0.9707 - val_loss: 0.3044 - val_acc: 0.9147\n",
      "Epoch 15/30\n",
      "64/64 [==============================] - 14s - loss: 0.0518 - acc: 0.9814 - val_loss: 0.3593 - val_acc: 0.9195\n",
      "Epoch 16/30\n",
      "64/64 [==============================] - 14s - loss: 0.0527 - acc: 0.9824 - val_loss: 0.3035 - val_acc: 0.9183\n",
      "Epoch 17/30\n",
      "64/64 [==============================] - 14s - loss: 0.0349 - acc: 0.9868 - val_loss: 0.3020 - val_acc: 0.9195\n",
      "Epoch 18/30\n",
      "64/64 [==============================] - 14s - loss: 0.0332 - acc: 0.9888 - val_loss: 0.3253 - val_acc: 0.9291\n",
      "Epoch 19/30\n",
      "64/64 [==============================] - 14s - loss: 0.0433 - acc: 0.9849 - val_loss: 0.3177 - val_acc: 0.9279\n",
      "Epoch 20/30\n",
      "64/64 [==============================] - 14s - loss: 0.0401 - acc: 0.9873 - val_loss: 0.2912 - val_acc: 0.9255\n",
      "Epoch 21/30\n",
      "64/64 [==============================] - 14s - loss: 0.0356 - acc: 0.9897 - val_loss: 0.3278 - val_acc: 0.9207\n",
      "Epoch 22/30\n",
      "64/64 [==============================] - 14s - loss: 0.0325 - acc: 0.9888 - val_loss: 0.3212 - val_acc: 0.9291\n",
      "Epoch 23/30\n",
      "64/64 [==============================] - 14s - loss: 0.0362 - acc: 0.9849 - val_loss: 0.3038 - val_acc: 0.9303\n",
      "Epoch 24/30\n",
      "64/64 [==============================] - 14s - loss: 0.0303 - acc: 0.9893 - val_loss: 0.2688 - val_acc: 0.9279\n",
      "Epoch 25/30\n",
      "64/64 [==============================] - 14s - loss: 0.0268 - acc: 0.9912 - val_loss: 0.3272 - val_acc: 0.9315\n",
      "Epoch 26/30\n",
      "64/64 [==============================] - 14s - loss: 0.0214 - acc: 0.9922 - val_loss: 0.2904 - val_acc: 0.9327\n",
      "Epoch 27/30\n",
      "64/64 [==============================] - 14s - loss: 0.0232 - acc: 0.9917 - val_loss: 0.3277 - val_acc: 0.9351\n",
      "Epoch 28/30\n",
      "64/64 [==============================] - 14s - loss: 0.0227 - acc: 0.9917 - val_loss: 0.2777 - val_acc: 0.9399\n",
      "Epoch 29/30\n",
      "64/64 [==============================] - 14s - loss: 0.0161 - acc: 0.9946 - val_loss: 0.4184 - val_acc: 0.9195\n",
      "Epoch 30/30\n",
      "64/64 [==============================] - 14s - loss: 0.0217 - acc: 0.9941 - val_loss: 0.2723 - val_acc: 0.9399\n"
     ]
    },
    {
     "data": {
      "text/plain": [
       "<keras.callbacks.History at 0x7f1494937438>"
      ]
     },
     "execution_count": 33,
     "metadata": {},
     "output_type": "execute_result"
    }
   ],
   "source": [
    "# fine-tune the model\n",
    "model.fit_generator(\n",
    "    train_generator,\n",
    "    steps_per_epoch=train_samples // batch_size,\n",
    "    epochs=epochs,\n",
    "    validation_data=validation_generator,\n",
    "    validation_steps=validation_samples // batch_size)"
   ]
  },
  {
   "cell_type": "code",
   "execution_count": 34,
   "metadata": {
    "collapsed": true
   },
   "outputs": [],
   "source": [
    "model.save_weights('models/finetuning_30epochs_vgg.h5')"
   ]
  },
  {
   "cell_type": "code",
   "execution_count": 35,
   "metadata": {
    "collapsed": true
   },
   "outputs": [],
   "source": [
    "model.load_weights('models/finetuning_30epochs_vgg.h5')"
   ]
  },
  {
   "cell_type": "markdown",
   "metadata": {},
   "source": [
    "### Evaluating on validation set"
   ]
  },
  {
   "cell_type": "markdown",
   "metadata": {},
   "source": [
    "Computing loss and accuracy :"
   ]
  },
  {
   "cell_type": "code",
   "execution_count": 36,
   "metadata": {
    "collapsed": false
   },
   "outputs": [
    {
     "data": {
      "text/plain": [
       "[0.31461367263587958, 0.93137770432692313]"
      ]
     },
     "execution_count": 36,
     "metadata": {},
     "output_type": "execute_result"
    }
   ],
   "source": [
    "model.evaluate_generator(validation_generator, validation_samples)"
   ]
  },
  {
   "cell_type": "markdown",
   "metadata": {},
   "source": [
    "**We reached a 93% accuracy on the validation with 8% of the samples originally available on the Kaggle competition!**"
   ]
  },
  {
   "cell_type": "code",
   "execution_count": null,
   "metadata": {
    "collapsed": true
   },
   "outputs": [],
   "source": []
  }
 ],
 "metadata": {
  "anaconda-cloud": {},
  "kernelspec": {
   "display_name": "Python 3",
   "language": "python",
   "name": "python3"
  },
  "language_info": {
   "codemirror_mode": {
    "name": "ipython",
    "version": 3
   },
   "file_extension": ".py",
   "mimetype": "text/x-python",
   "name": "python",
   "nbconvert_exporter": "python",
   "pygments_lexer": "ipython3",
   "version": "3.5.2"
  }
 },
 "nbformat": 4,
 "nbformat_minor": 1
}
